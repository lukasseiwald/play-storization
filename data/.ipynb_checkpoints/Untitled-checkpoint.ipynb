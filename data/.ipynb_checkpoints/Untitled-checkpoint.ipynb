{
 "cells": [
  {
   "cell_type": "code",
   "execution_count": 2,
   "metadata": {},
   "outputs": [
    {
     "name": "stdout",
     "output_type": "stream",
     "text": [
      "                                                 App        Category  Rating  \\\n",
      "0     Photo Editor & Candy Camera & Grid & ScrapBook  ART_AND_DESIGN     4.1   \n",
      "1                                Coloring book moana  ART_AND_DESIGN     3.9   \n",
      "2  U Launcher Lite – FREE Live Cool Themes, Hide ...  ART_AND_DESIGN     4.7   \n",
      "3                              Sketch - Draw & Paint  ART_AND_DESIGN     4.5   \n",
      "4              Pixel Draw - Number Art Coloring Book  ART_AND_DESIGN     4.3   \n",
      "\n",
      "    Reviews     Size    Installs  Price                     Genres  \n",
      "0     159.0  19000.0     10000.0    0.0               Art & Design  \n",
      "1     967.0  14000.0    500000.0    0.0  Art & Design;Pretend Play  \n",
      "2   87510.0  87000.0   5000000.0    0.0               Art & Design  \n",
      "3  215644.0  25000.0  50000000.0    0.0               Art & Design  \n",
      "4     967.0  28000.0    100000.0    0.0    Art & Design;Creativity  \n",
      "App          object\n",
      "Category     object\n",
      "Rating      float64\n",
      "Reviews     float64\n",
      "Size        float64\n",
      "Installs    float64\n",
      "Price       float64\n",
      "Genres       object\n",
      "dtype: object\n"
     ]
    }
   ],
   "source": [
    "import pandas as pd \n",
    "\n",
    "df = pd.read_csv(\"googleplaystore.csv\") \n",
    "\n",
    "df = df.drop(columns=['Last Updated', 'Android Ver', 'Type', 'Content Rating', 'Current Ver'])\n",
    "\n",
    "df = df.drop_duplicates(subset='App').reset_index(drop=True)\n",
    "\n",
    "df['Rating'].fillna(0, inplace=True)\n",
    "\n",
    "df['Installs'] = df['Installs'].str.replace('+', '')\n",
    "df['Installs'] = df['Installs'].str.replace(',', '')\n",
    "\n",
    "df.drop(df.loc[df['Installs']=='Free'].index, inplace=True)\n",
    "\n",
    "df['Size'] = df['Size'].str.replace('G', '000000')\n",
    "df['Size'] = df['Size'].str.replace('.', '')\n",
    "df['Size'] = df['Size'].str.replace('M', '000')\n",
    "df['Size'] = df['Size'].str.replace('k', '')\n",
    "df['Price'] = df['Price'].str.replace('$', '')\n",
    "df['Size'] = df['Size'].str.replace('Varies with device', '0')\n",
    "df['Reviews'] = df['Reviews'].str.replace('M', '')\n",
    "\n",
    "df = df.astype({'Installs': 'float', 'Reviews': 'float', 'Price': 'float', 'Size': 'float'})\n",
    "\n",
    "print(df.head())\n",
    "\n",
    "print(df.dtypes)\n",
    "\n",
    "df.to_csv ('./googleplaystore-transformed.csv', index = None, header=True)\n"
   ]
  },
  {
   "cell_type": "code",
   "execution_count": null,
   "metadata": {},
   "outputs": [],
   "source": []
  }
 ],
 "metadata": {
  "kernelspec": {
   "display_name": "Python 3",
   "language": "python",
   "name": "python3"
  },
  "language_info": {
   "codemirror_mode": {
    "name": "ipython",
    "version": 3
   },
   "file_extension": ".py",
   "mimetype": "text/x-python",
   "name": "python",
   "nbconvert_exporter": "python",
   "pygments_lexer": "ipython3",
   "version": "3.7.4"
  }
 },
 "nbformat": 4,
 "nbformat_minor": 4
}
